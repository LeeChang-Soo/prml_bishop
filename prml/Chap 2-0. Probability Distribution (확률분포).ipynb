{
 "cells": [
  {
   "cell_type": "markdown",
   "metadata": {},
   "source": [
    "## 2.0 Probability Distribution"
   ]
  },
  {
   "cell_type": "markdown",
   "metadata": {},
   "source": [
    "   * 1 장에선, 패턴인식 해결책으로서 확률의 역활을 강조하였다.\n",
    "   * 이제 확률분포로서 그 특정 예와 성질을 조사 할 것이다.\n",
    "   * 그 자신의 흥미뿐아니라, 이러한 분포들은 더 복잡한 모델을 구성 할 수 있을뿐아니라, 이 책 전반적으로 사용할 것이다.\n",
    "   * 이 장에서 소개되는 확률분포는 또다른 중요한 목적으로 사용한다. 즉 중요한 통계개념을 (베이지안 추론) 마지막 장에서 더욱 복잡한 모델을 만나기 전에 간단한 모델로서 논의 할 것이다."
   ]
  },
  {
   "cell_type": "markdown",
   "metadata": {},
   "source": [
    "### 밀도추정 (density estimation)"
   ]
  },
  {
   "cell_type": "markdown",
   "metadata": {},
   "source": [
    "   * 이 장에서 논의할 확률분포의 한가지 역활은 관찰된 자료 ${\\bf x_1},...,{\\bf x_N}$ 가 주어지면, 확률변수 ${\\bf x}$ 의 확률분포 $p({\\bf x})$ 의 모델화 하는데 있다.\n",
    "   * 이문제는  density estimation 으로 알려져 있다.\n",
    "   * 이 장의 목적을 의해서, 데이터 포인트는 독립적이고, 동일하게 분포되어 있다고 가정합니다.\n",
    "   * 밀도추정의 문제는 근본적으로 바랍직하지 않다고 강조해야 합니다. 왜냐하면 주어진 관측된 한정된 데이터 셋에서 발생할 수 있는 확률분포는 무수히 많기 때문입니다.\n",
    "   * 사실 데이터 셋트 ${\\bf x}_1,...{\\bf x}_N$ 에서 추정된 0 이 아닌 어떤 분포도 후보가 될 수 있습니다.\n",
    "   * 문제와 관련된 적절한 분포를 찿는 문제는 이미 1장에서 다항식 커브피팅 문제에서 만난적이 있습니다. 그리고 이문제는 패턴인식의 중심과제 이기도 합니다."
   ]
  },
  {
   "cell_type": "markdown",
   "metadata": {},
   "source": [
    "### 이항및 다항 분포"
   ]
  },
  {
   "cell_type": "markdown",
   "metadata": {},
   "source": [
    "   * 이산 확률 변수에 대한 이항및 다항 분포를 먼저 하고, 연속변수에 대한 가우스 분포에 대해서 이야기 할 것 입니다.\n",
    "   * 이런것은 모수(parameteric) 분포의 예입니다. 왜냐하면 가우스분포의 예에서 처럼, 평균, 분산등의 적은 적응 파라미터(adaptive) 에 의해서 결정되기 때문입니다.\n",
    "   * 밀도추정 문제에 그럼 모델을 적용하기 위해서, 관측된 데이터 셋트로 부터 파라미터를 위해서 적절한 값을 결정하는 절차가 필요합니다.\n",
    "   * 빈도론자 에서는, 어떤기준, 말하자면 likelihood function 같은것의 최적해 하므로써 파라미터의 특정값을 선택합니다.\n",
    "   * 반면에 베이지안인 경우에는 파라미터의 사전분포를 얻고 나서, 주어진 데이터로 부터 대응되는 사후분포를 구하기 위해서 베이즈 이론을 사용합니다."
   ]
  },
  {
   "cell_type": "markdown",
   "metadata": {},
   "source": [
    "### 공액사전분포 또는 켤레사전분포  (Conjugate Prior)"
   ]
  },
  {
   "cell_type": "markdown",
   "metadata": {},
   "source": [
    "   * conjugae prior 에 대한 중요성을 이야기 할 것이다.\n",
    "   * 사전 분포처럼 사후분포가 같은 함수 형식을 갖는 것을 말한다.\n",
    "   * 베이시안 분석에서 매우 단순화게 계산을 유도 할 수 있다.\n",
    "   * 예를들면, 디리클레(Dirichlet distribution) 다항식 분포\n",
    "   * 가우시안 분포 도 또다른 예가 된다.\n",
    "   * 이런한 모든 분포들은 지수분포 계열(exponential family) 이라고 하고, 중요한 몇개의 성질을 가지고 있고, 자세하게 논의 할 것이다."
   ]
  },
  {
   "cell_type": "markdown",
   "metadata": {},
   "source": [
    "### Non-Parametric Approach"
   ]
  },
  {
   "cell_type": "markdown",
   "metadata": {},
   "source": [
    "   * 모수 접근 방법은 분포에서 어떤 함수형태를 가정하는 것이므로 한가지 단점이 있는데, 예외적인 적용 경우에는 적당하지 않을 수 있다는것이 알려져 있다.\n",
    "   * 또 다른 접근 방법은 비모수 밀도 추정 (non-parametric density estimation) 방법이며, 데이터의 크기에 의존합니다.\n",
    "   * 그런 모델에도 여전히 파라미터를 포함하지만, 분포의 형태를 조정하기 보다는 복잡성의 정도를 조정한다.\n",
    "   * 이장 마지막에 각각 히스토그램, nearest-neighbour, kernels 방법을을 이용한 3 가지 비모수 방법을 소개 할 것이다."
   ]
  }
 ],
 "metadata": {
  "kernelspec": {
   "display_name": "Python 3",
   "language": "python",
   "name": "python3"
  },
  "language_info": {
   "codemirror_mode": {
    "name": "ipython",
    "version": 3
   },
   "file_extension": ".py",
   "mimetype": "text/x-python",
   "name": "python",
   "nbconvert_exporter": "python",
   "pygments_lexer": "ipython3",
   "version": "3.6.4"
  }
 },
 "nbformat": 4,
 "nbformat_minor": 2
}

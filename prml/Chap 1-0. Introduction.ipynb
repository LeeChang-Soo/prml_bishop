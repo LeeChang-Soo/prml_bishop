{
 "cells": [
  {
   "cell_type": "markdown",
   "metadata": {},
   "source": [
    "# 1. Introduction"
   ]
  },
  {
   "cell_type": "markdown",
   "metadata": {},
   "source": [
    "###  데이터에서 패턴을 찿는 문제\n",
    "   * 컴퓨터 알고리즘을 사용하여 데이터에서 자동적으로 규칙을 찿는 것 또는\n",
    "   * 데이터를 분류하여 여러 항목(카테고리)으로 나누는것을 자동으로 하는것"
   ]
  },
  {
   "cell_type": "markdown",
   "metadata": {},
   "source": [
    "숫자손글씨 예제.\n",
    "\n",
    "<img src=\"/files/books/prml/image/handwrite_digit.png\" width=\"200\" height=\"150\" align=\"left\">"
   ]
  },
  {
   "cell_type": "markdown",
   "metadata": {},
   "source": [
    "   * 필체의 획수를 이용하여 문자를 구분하기 위하여 휴리스틱한 방법이나 또는 잘 정의된 규칙을 이용하여 사용할 것이다\n",
    "   * 그러나 실제적인 경우에는 규칙의 급격한 팽창 또는 그런 유사한 상황을 만나게 되어 좋은 결과를 얻지는 못한다."
   ]
  },
  {
   "cell_type": "markdown",
   "metadata": {},
   "source": [
    "   * 학습모델을 만들어서 손글씨 관련된 학습 자료를 만들고 그것을 이용하여 학습시키는 기계학습으로 접근 하는 것이 더 좋은 결과를 얻을 것이다."
   ]
  },
  {
   "cell_type": "markdown",
   "metadata": {},
   "source": [
    "### 기계학습"
   ]
  },
  {
   "cell_type": "markdown",
   "metadata": {},
   "source": [
    "  * 손글씨 예제에서 기계학습은 은 함수 $y(x)$ 로 나타낸다.\n",
    "  * 함수 $y(x)$ 는 입력으로 손글씨 획수를 수치화한 학습용 자료 $\\{x_1,x_2,...,x_N\\}$ 을 사용하고, 그 결과를 벡터 $y$ 로 표시 한다\n",
    "  * 벡터 $y(x)$ 의 정확한 형태는 학습단계에서 결정된다.\n",
    "  * 일단 학습이 된 경우에는 새로운 데이터셋을 주었을때, 학습된 데이터를 기반으로 하여 어떤 손글씨 숫자인지를 판단하게 된다."
   ]
  },
  {
   "cell_type": "markdown",
   "metadata": {},
   "source": [
    "### Generalization"
   ]
  },
  {
   "cell_type": "markdown",
   "metadata": {},
   "source": [
    "   * 모델이 학습된 후에 테스트 데이터 세트와 다른 신규 이미지를 가지고 분류 판단 하는 것을 일반화라고 한다.\n",
    "   * 실제 문제에서는 입력 테스트 자료는 모든 가능한 경우에 비해서 매우 작다.\n",
    "   * 따라서 실제 많은 경우에 대비한 적은 테스트 데이터로서 일반화된 패턴을 찿아야 한다.\n",
    "   * 이것이 패턴인식의 중심과제라고 할 수 있다."
   ]
  },
  {
   "cell_type": "markdown",
   "metadata": {},
   "source": [
    "### 전처리 과정"
   ]
  },
  {
   "cell_type": "markdown",
   "metadata": {},
   "source": [
    "   * 원 입력 테스트 데이터는 너무 방대하여, 그것을 적절한 크기로 변환하도록 한다.\n",
    "   * 이것은 원래 입력 자료의 방대한 다양성을 줄여 주기도 하므로, 메인 처리로서 패턴인식에 훨씬 수월하게 진행하고 속도를 빠르게 진행 하도록 한다.\n",
    "   * 전처리 과정을 때때로는 특징 추출(feature extraction) 이 라고도 한다.\n",
    "     * 실시간 얼굴인식 (고성능 비디오 스트림 상에서)\n",
    "        * 초당 많은 수의 픽셀을 처리 하여야 한다.\n",
    "        * 처리가 거의 불가능함.\n",
    "        * 계산을 빠르게 하기 위하여, 필요한 특징을 먼저 추출하도록 함.\n",
    "        * 추출된 특징을 패턴인식에서 활용하도록 함. 처리 속도가 빨라짐."
   ]
  },
  {
   "cell_type": "markdown",
   "metadata": {},
   "source": [
    "### 기계학습의 종류"
   ]
  },
  {
   "cell_type": "markdown",
   "metadata": {},
   "source": [
    "   * 보통 학습의 종류에 따라서 분류함.\n",
    "   * 지도 학습(Supervised learning)\n",
    "      * 분류(Classification)/ 회귀(Regression)\n",
    "   * 비지도 학습(Unsupervised learning)\n",
    "      * 클러스터링(Clustering) / 밀도추정(Density Estimation) / Visualization\n",
    "   * 강화학습(Reinforcement learning)\n",
    "      * 상황에 맞는 최대 보상으로 적절한 행위를 찿는 방법.\n",
    "      * 일반적으로 일련의 상태와 행위(Action)가 주어진다.\n",
    "      * 지도학습과 다르게 학습 목표가 없으며 대신 각 상태에서 보상이 주어진다.\n",
    "      * 이책의 범위가 아님."
   ]
  }
 ],
 "metadata": {
  "kernelspec": {
   "display_name": "Python 3",
   "language": "python",
   "name": "python3"
  },
  "language_info": {
   "codemirror_mode": {
    "name": "ipython",
    "version": 3
   },
   "file_extension": ".py",
   "mimetype": "text/x-python",
   "name": "python",
   "nbconvert_exporter": "python",
   "pygments_lexer": "ipython3",
   "version": "3.6.3"
  }
 },
 "nbformat": 4,
 "nbformat_minor": 2
}

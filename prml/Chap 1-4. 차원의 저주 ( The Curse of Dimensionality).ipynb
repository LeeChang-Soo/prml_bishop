{
 "cells": [
  {
   "cell_type": "markdown",
   "metadata": {},
   "source": [
    "### 1.4 차원의 저주 (The Curse of Dimensionality)"
   ]
  },
  {
   "cell_type": "markdown",
   "metadata": {},
   "source": [
    "   * 앞서 다항식의 커브피팅 예제는 단순히 1 개의 변수 $x$ 만 사용하였다.\n",
    "   * 그러나 실제적인 패턴인식에서는 많은 입력변수를 반영하기 위하여 고차원 공간에서 문제를 취급하여야만 한다.\n",
    "   * 이것은 심각한 도전작이며, 패턴인식 기법을 설계하는데, 매우 중요한 요소이다."
   ]
  },
  {
   "cell_type": "markdown",
   "metadata": {},
   "source": [
    "   * 그림 1-19 오일흐름의 산포도.\n",
    "   \n",
    " <img src=\"/files/books/prml/image/1-19oilflow-scatter.png\" width=\"400\" height=\"300\" align=\"left\">\n",
    " \n",
    "       * 입력변수 $x_6$ 과 $x_7$ 의 오일흐름 산포도\n",
    "       * 붉은색: 균질한 등급\n",
    "       * 녹색: 환형등급\n",
    "       * 푸른색: 층류등급\n",
    "       * Appendix A 에서 자료에 대한 설명이 있음\n",
    "       * 새로운 입력 자료 $\\times$ 로 표시된 신규자료 는 어떤 등급에 해당할까???"
   ]
  },
  {
   "cell_type": "markdown",
   "metadata": {},
   "source": [
    "   * 문제를 이해하기 위해서 오일,물, 개스가 혼합된 종합적으로 생성된 데이터 셋트를 고려하자. 이들 물질은 3가지 기하학적 모양중 하나에 있으며, 각각 균질한 등급, 환형등급, 층류등급 이다. 3가지 물질의 비율도 다를수 있다.\n",
    "   * 각 데이터는 12차원 입력 벡터 이며, 파이프를 통과하는 감마선의 감쇠를 측정하며 얻는 감마선 농도계로 측정한 농도이다.\n",
    "   * Appendix A 에 자료에 대한 설명이 있음.\n",
    "   * 그림 1.19 는 $x_6$, $x_7$ 값을 보여주는 100 개의 포인트인 산포도 이다.\n",
    "   * 나머지 10개의 변수는 그림상에서는 생략.\n",
    "   * 각 점은 각각 3종류의 기하학적 표시로 구분을 한다.\n",
    "   * 이 데이터를 학습하고서, 새로운 ($x_6$, $x_7$) 측정치가 왔을때 (그림 1.19 이 $\\times$ 표시) 3 개의 분류로 중 하나로 표시를 핤 있는지 가 목적.\n",
    "   * $\\times$ 주변은 붉은 점들오 모여 있다. 따라서 $\\times$ 는 붉은점 으로 분류 할 수 있을 것 같다.\n",
    "   * 역시 $\\times$ 주변에 녹색점 들이 있다. 역시 녹색점으로 분류 할 수 있을 것 같기도 하다.\n",
    "   * 직관은 $\\times$ 근처의 가장 가까운 종류로 분류하는 것이다.\n",
    "   * 이 직관은 합리적이고, 나마지 장에서 충분히 논의 할 것이다.\n",
    "   * 이 직관을 학습알고리즘으로 구현 할 수 있을까???"
   ]
  },
  {
   "cell_type": "markdown",
   "metadata": {},
   "source": [
    "#### 한가지 방법"
   ]
  },
  {
   "cell_type": "markdown",
   "metadata": {},
   "source": [
    "   * 간단한 방법은 규칙적인 셀로 영역을 나누는 방법이다.\n",
    "   * 그림 1-20\n",
    "   \n",
    "<img src=\"/files/books/prml/image/1-20divide-cell.png\" width=\"400\" height=\"300\" align=\"left\">\n",
    "   \n",
    "      * 분류해법의 간단한 해법\n",
    "      * 공간을 그림처럼 CELL 로 나눔\n",
    "      * 새로운 점은 속한 셀이 가장 많이 포함한 색깔점으로 분류\n",
    "      * 심각한 단점이 있다."
   ]
  },
  {
   "cell_type": "markdown",
   "metadata": {},
   "source": [
    "   * 새로운 데이터가 들어 왔을때, 그 점을 포함한 셀이 어떤 컬러인지를 판단한다.\n",
    "   * 각 셀은 학습데이터에 의하새 가장많이 포함한 점의 색깔을 갖는다.\n",
    "   * 이러한 접근 방법이 많은 문제점이 있지만, 한 가지 이야기 하면, 더 높은 차원으로 확장함에 입력변수가 더 많아지면 많아질수록 문제는 명백해준다."
   ]
  },
  {
   "cell_type": "markdown",
   "metadata": {},
   "source": [
    "#### 이런한 접근에 대한 문제점"
   ]
  },
  {
   "cell_type": "markdown",
   "metadata": {},
   "source": [
    "   * 그림 1-21. 셀영역 분류에 대한 문제점.\n",
    "   \n",
    "<img src=\"/files/books/prml/image/1-20cell-problem.png\" width=\"400\" height=\"300\" align=\"left\">\n",
    "         * 차원의 저주에 대한 그림.\n",
    "         * 격자가 차원이 증가함에 따라 지수적으로 늘어난다.\n",
    "         * 그림은 3차원 까지 표현 했다."
   ]
  },
  {
   "cell_type": "markdown",
   "metadata": {},
   "source": [
    "   * 그림 1-21 은 영역을 셀로 나눌경우, 셀의 숫자가 차원이 늘어날수록 지수적으로 증가함을 보여준다.\n",
    "   * 지수적으로 셀이 늘어남에 따라, 문제는 준비하여야 할 학습데이터도 지수적으로 늘어난다.\n",
    "   * 명백하게, 이러한 접근방법은 문제가 있으며, 더 현명한 방법을 찿아야 한다."
   ]
  },
  {
   "cell_type": "markdown",
   "metadata": {},
   "source": [
    "#### 커브피팅 문제에서 고차원 문제를 보면"
   ]
  },
  {
   "cell_type": "markdown",
   "metadata": {},
   "source": [
    "   * 다항식 커브 피팅 문제에서 고차원 공간으로 보면, 더 많은 직관을 얻을 수 있다.\n",
    "   * 3 차원 공간에서 D 개의 입력변수가 있다고 하면 M = 3 을 갖는 일반 다항식은 다음과 같다.\n",
    " \n",
    "$$y({\\bf x}, {\\bf w})=w_0+\\sum_{i=1}^{D}{w_i}{x_i} + \\sum_{i=1}^{D}\\sum_{j=1}^{D}{w_{ij}}{x_i}{x_j}+\\sum_{i=1}^{D}\\sum_{j=1}^{D}\\sum_{k=1}^{D}{w_{ijk}}{x_i}{x_j}{x_k} \\qquad{(1.74)}$$"
   ]
  },
  {
   "cell_type": "markdown",
   "metadata": {},
   "source": [
    "   * D 가 증가하면 할수록, 독립적인 계수는 $D^3$ 에 비례하게 된다.\n",
    "   * 실제적으로는 M 은 더 고차원 order 로 해야 할 것이므로 계수의 증가량은 $D^M$ 에 비례하개 된다.\n",
    "   * 지수적으로 증가하진 않아도, 여전히 멱급수로 증가하며, 실제문제에서는 곧바로 한계에 부딪히게 된다."
   ]
  },
  {
   "cell_type": "markdown",
   "metadata": {},
   "source": [
    "#### 차원에 대한 기하학적 직관"
   ]
  },
  {
   "cell_type": "markdown",
   "metadata": {},
   "source": [
    "   * 3차원 공간에 익숙한 기하학적 직관이 고차원으로 갈 경우 상식에 반한다.\n",
    "   * 간단한 예제로서 $D$ 차원 공간 에서 $r = 1$ 인 구를 보자.\n",
    "       * $r = 1$ 과, $r = 1 - \\epsilon$ 사이에 있는 구의 체적의 비는 $r = 1$ 에 비해서 얼마인가?"
   ]
  },
  {
   "cell_type": "markdown",
   "metadata": {},
   "source": [
    "   * $D$ 차원에서 반경 $r$ 인 구의 체적은 $r^D$ 에 비례한다. \n",
    "$$V_D(r)=K_Dr^D \\qquad{(1.75)}$$\n",
    "        * 상수 $K_D$ 는 $D$ 에만 의존한다."
   ]
  },
  {
   "cell_type": "markdown",
   "metadata": {},
   "source": [
    "   * 따라서 구하고자 하는 것은 다음과 같이 된다.\n",
    " $$\\dfrac{V_D(1)-V_D(1-\\epsilon)}{V_D(1)}=1-(1-\\epsilon)^D \\qquad{(1.76)}$$"
   ]
  },
  {
   "cell_type": "markdown",
   "metadata": {},
   "source": [
    "   * 그림 1-22 에 D 의 $\\epsilon$ 에 따른 여러가지 그래프를 표현한다.\n",
    "\n",
    "<img src=\"/files/books/prml/image/1-22fraction.png\" width=\"400\" height=\"300\" align=\"left\">\n",
    "\n",
    "   * $r = 1 - \\epsilon$ 과 $r = 1$ 사이에 차원 $D$ 에 따른 체적의 비에 대한 그래프"
   ]
  },
  {
   "cell_type": "markdown",
   "metadata": {},
   "source": [
    "   * $D$ 가 증가 할수록 비율은 1에 접근한다. 즉 부피의 대부분은 차원이 증가 할 수록 표면근처에 대부분이 있다."
   ]
  },
  {
   "cell_type": "markdown",
   "metadata": {},
   "source": [
    "#### 고차원에서 가우시안 분포"
   ]
  },
  {
   "cell_type": "markdown",
   "metadata": {},
   "source": [
    "   * 패턴인식과 관련하여, 고차원에서 가우시안 분포에 대해서 고려해보자.\n",
    "   * 직교좌표에서 극좌표로 변환하고, 방향변수 $r$ 에 대해서 적분하면, 밀도 함수 $p(r)$ 은 원점에서 반경 $r$ 의 함수로 표현한다.\n",
    "   * 밀도질량 $p(r)\\delta r$ 는 반경 $r$ 에서 두께 $\\delta r$ 를 갖는 쉘 안쪽에 있게된다.\n",
    "   * 그림 1-23 에 차원 D 에 따른 그래프가 있으며, 그래프에서 보면 차원이 증가하면 가우시안 확률 질량은 얇은 쉘에 모아지게 된다.\n",
    "   \n",
    "   1-23 차원 $D$ 에 따른 반경 $r$ 의 확률밀도 그래프\n",
    "   \n",
    "<img src=\"/files/books/prml/image/1-23probability-mass.png\" width=\"400\" height=\"300\" align=\"left\">\n",
    "\n",
    "   * 고차원에서 확률질량의 대부분이 차원이 증가할수롤 반경 $r$ 에 모아지고 있다."
   ]
  },
  {
   "cell_type": "markdown",
   "metadata": {},
   "source": [
    "#### 차원의 저주"
   ]
  },
  {
   "cell_type": "markdown",
   "metadata": {},
   "source": [
    "   * 이런것을 차원의 저주라고 한다. 이책에서는 대부분의 예를 1 또는 2차원에서 예를 다를것이지만\n",
    "   * 여기서 얻은 모든 직관이 고차원으로 일반화 할 수는 없다.\n",
    "   * 차원의 저주가 있지만, 고차원에서 효과적인 방법을 못찿는 것은 아니다."
   ]
  },
  {
   "cell_type": "markdown",
   "metadata": {},
   "source": [
    "#### 고차원에서 효과적인 방법론을 찿을수 있는 이유"
   ]
  },
  {
   "cell_type": "markdown",
   "metadata": {},
   "source": [
    "   * 실제 데이터는 종종 유효차원이 낮은 영역에 국한되며, 타겟 변수에서 중요한 변동의 방향 또한 범위가 제한된다.\n",
    "   * 실제 데이터는 전형적으로 약간 부드러운 속성(최소한 국지적으로) (smoothness) 을 가지고 있어서 입력변수의 조그만 변화에 따른 타켓변수의 변화 역시 조그많게 변한다. 따라서 입력한 새로운 변수에 대한 타켓변수의 예측에는 보간법 같은 기법을 적용 할 수 있다. \n",
    "   * 패턴인식에서 성공적인 기법은 이러한 성질을 잘 이용한다."
   ]
  },
  {
   "cell_type": "markdown",
   "metadata": {},
   "source": [
    "#### 컨베이벨트 영상 이미지 시스템"
   ]
  },
  {
   "cell_type": "markdown",
   "metadata": {},
   "source": [
    "   * 컨베이 벨트에 흘러가는 동등한 물체들을 켑쳐한 영상 시스템을 생각하자.\n",
    "   * 각 이미지는 픽셀 갯수만큼의 차원을 갖는 고차원이다.\n",
    "   * 각 물체는 방향과 위치가 서로 다르기 때문에, 이미지 사이에 3차원 자유도를 갖고 있다.\n",
    "   * 일련의 이미지는 고차원 공간을 포함한(픽셀의 갯수) 3자원 다양체(manifold, smoothness) 상에 있게 된다.\n",
    "   * 물체의 위치, 방향과 픽셀의 강도 사이 관계가 매우 복잡하므로, 이 다양체는 매우 비선형적이 될 것입니다.\n",
    "   \n",
    "   * 모델이 학습하는 목적이 이미지를 입력 받아서 위치에 관계없이 물체의 방향을 출력하는 것이라면, 다양체 내에서 1개의 자유도만이 중요하게 될 것이다."
   ]
  }
 ],
 "metadata": {
  "kernelspec": {
   "display_name": "Python 3",
   "language": "python",
   "name": "python3"
  },
  "language_info": {
   "codemirror_mode": {
    "name": "ipython",
    "version": 3
   },
   "file_extension": ".py",
   "mimetype": "text/x-python",
   "name": "python",
   "nbconvert_exporter": "python",
   "pygments_lexer": "ipython3",
   "version": "3.6.3"
  }
 },
 "nbformat": 4,
 "nbformat_minor": 2
}
